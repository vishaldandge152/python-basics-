{
  "cells": [
    {
      "cell_type": "markdown",
      "metadata": {
        "id": "view-in-github",
        "colab_type": "text"
      },
      "source": [
        "<a href=\"https://colab.research.google.com/github/vishaldandge152/python-basics-/blob/main/pythonbasicassignment.ipynb\" target=\"_parent\"><img src=\"https://colab.research.google.com/assets/colab-badge.svg\" alt=\"Open In Colab\"/></a>"
      ]
    },
    {
      "cell_type": "markdown",
      "metadata": {
        "id": "LqqcXKwi83Jy"
      },
      "source": [
        "1.  What is Python, and why is it popular?\n",
        "    - pyhton is a  High - level programming langauge. python is popular due its simplicity, readability and verstability.\n",
        "    \n"
      ]
    },
    {
      "cell_type": "markdown",
      "metadata": {
        "id": "QLvfhTLG827S"
      },
      "source": [
        "2. What is an interpreter in Python?\n",
        "   - Interpreter in python is a process of executing a code line by line, and stop at that line when an error is occured while python execution."
      ]
    },
    {
      "cell_type": "markdown",
      "metadata": {
        "id": "ep3r8iy382yY"
      },
      "source": [
        "3.  What are pre-defined keywords in Python?\n",
        "    - Pre-defined keywords in Python are special words that are reserved and cannot be used for variable names, function names, or any other identifiers. Examples include if, else, for, while, def, class, import, etc.\n"
      ]
    },
    {
      "cell_type": "markdown",
      "metadata": {
        "id": "c5r9LGJs82Y8"
      },
      "source": [
        "4. Can keywords be used as variable names?\n",
        "   - No , keywords can not be used as variable name.\n",
        "\n"
      ]
    },
    {
      "cell_type": "markdown",
      "metadata": {
        "id": "pfp9giRs82Rp"
      },
      "source": [
        "5. What is mutability in Python?\n",
        "  - mutability in python means changing the objects (modification) can be done . examples of mutability i.e list, set, dictionaries."
      ]
    },
    {
      "cell_type": "markdown",
      "metadata": {
        "id": "i7IFn97U82Mm"
      },
      "source": [
        "6. Why are lists mutable, but tuples are immutable?\n",
        "   - list are mutable because their elements can be changes , add or remove after list is created.\n",
        "   But Tuples are immutable because elements in tuples can not be added, removed or changed after tuple is created.\n",
        "\n"
      ]
    },
    {
      "cell_type": "markdown",
      "metadata": {
        "id": "KY2axPpH82Ha"
      },
      "source": [
        "7.  What is the difference between “==” and “is” operators in Python?\n",
        "    - \"==\" is type of comparison operator and this  operator used to compares the equality.\n",
        "    \"is\" is an identity operator and it it used to  compare the identity of two objects."
      ]
    },
    {
      "cell_type": "markdown",
      "metadata": {
        "id": "h0E5RTs_82Ba"
      },
      "source": [
        "8. What are logical operators in Python?\n",
        "   - logical operator in python are 'AND' , 'OR' , and 'NOT'.\n",
        "   these operators are used for logical operation in python.\n",
        "\n"
      ]
    },
    {
      "cell_type": "markdown",
      "metadata": {
        "id": "_1Vfja5G815J"
      },
      "source": [
        "9.  What is type casting in Python?\n",
        "  -  Type casting in python is a process of converting value from one data type into another data type.. It is also know as type conversion."
      ]
    },
    {
      "cell_type": "markdown",
      "metadata": {
        "id": "vndg-jwG81uN"
      },
      "source": [
        "10.  What is the difference between implicit and explicit type casting?\n",
        "    - implicit - It is the process in which pyhton automatically convert one data type into another without defining it.\n",
        "    Expilicit - It is the process in which python converts data type into another using in built functions like int(), str(), float().need to define it."
      ]
    },
    {
      "cell_type": "markdown",
      "metadata": {
        "id": "Aoeou36981h7"
      },
      "source": [
        "11.  What is the purpose of conditional statements in Python?\n",
        "    - condition statement is statement that evalutes the given condition in the form of true and flase. its purpose is to perform the given conditonal until it gives true or false. types of contional statement are if, else,elif."
      ]
    },
    {
      "cell_type": "markdown",
      "metadata": {
        "id": "pfpdqcP4JGo5"
      },
      "source": [
        "12.  How does the elif statement work?\n",
        "     - elif statement is the type of conditional statement and the elif condition is used when there is more than one condition.\n",
        "     elif statement works -if the given condition is true than only it evaluates"
      ]
    },
    {
      "cell_type": "markdown",
      "metadata": {
        "id": "O4H4L6VlIqJB"
      },
      "source": [
        "13.  What is the difference between for and while loops?\n",
        "     - for loop - in for loop it repeates the squence of element. it is usaually used when we know the number of itertion.\n",
        "     -while - while loop runs the code until the  given condition gets true or the condtion satisfies. it is uused wehn we dont knwo the exact number of iteration."
      ]
    },
    {
      "cell_type": "markdown",
      "metadata": {
        "id": "Yu9dhQbdIqBC"
      },
      "source": [
        "14.  Describe a scenario where a while loop is more suitable than a for loop.\n",
        "     - While loop is more suitable when we want the output as a true.\n",
        "     Because it run the condition until the output is true.\n",
        "     scenario = while loop is better when we want to login into our account using password. because it will run until the password gets true."
      ]
    },
    {
      "cell_type": "markdown",
      "metadata": {
        "id": "xDQ65gBYIp7d"
      },
      "source": [
        "practicals questions"
      ]
    },
    {
      "cell_type": "code",
      "execution_count": null,
      "metadata": {
        "colab": {
          "base_uri": "https://localhost:8080/"
        },
        "id": "IaVpMNazrfJq",
        "outputId": "c93c0c18-78fd-49b6-e5b9-981a5ede4145"
      },
      "outputs": [
        {
          "output_type": "stream",
          "name": "stdout",
          "text": [
            "Hello,World!\n"
          ]
        }
      ],
      "source": [
        "#write a program to print \"Hello,World!\".\n",
        "str1 = \"Hello,World!\"\n",
        "print(str1)"
      ]
    },
    {
      "cell_type": "code",
      "execution_count": null,
      "metadata": {
        "colab": {
          "base_uri": "https://localhost:8080/"
        },
        "id": "IQe2fR27sAST",
        "outputId": "9b40fd7c-9b8b-4a29-b604-f61246e19dbb"
      },
      "outputs": [
        {
          "name": "stdout",
          "output_type": "stream",
          "text": [
            "My name is vishal and my age is 20\n"
          ]
        }
      ],
      "source": [
        "#write a python program to print your name and age.\n",
        "name = \"vishal\"\n",
        "age = 20\n",
        "print(\"My name is\", name, \"and my age is\", age)"
      ]
    },
    {
      "cell_type": "code",
      "execution_count": null,
      "metadata": {
        "colab": {
          "base_uri": "https://localhost:8080/"
        },
        "id": "jdyJf9wSt8Eg",
        "outputId": "344572b5-57d7-4622-939f-947b417d424e"
      },
      "outputs": [
        {
          "name": "stdout",
          "output_type": "stream",
          "text": [
            "print all the pre-defined keywords in python using keyword library\n",
            "['False', 'None', 'True', 'and', 'as', 'assert', 'async', 'await', 'break', 'class', 'continue', 'def', 'del', 'elif', 'else', 'except', 'finally', 'for', 'from', 'global', 'if', 'import', 'in', 'is', 'lambda', 'nonlocal', 'not', 'or', 'pass', 'raise', 'return', 'try', 'while', 'with', 'yield']\n"
          ]
        }
      ],
      "source": [
        "#write code to print all pre-defined keywords in python using keyword library.\n",
        "print(\"print all the pre-defined keywords in python using keyword library\")\n",
        "import keyword\n",
        "print(keyword.kwlist)"
      ]
    },
    {
      "cell_type": "code",
      "execution_count": null,
      "metadata": {
        "colab": {
          "base_uri": "https://localhost:8080/"
        },
        "id": "-_xNJB_puvk7",
        "outputId": "dc21d2ba-012e-4321-d2f7-a56c1cabeb27"
      },
      "outputs": [
        {
          "name": "stdout",
          "output_type": "stream",
          "text": [
            "for is a python keyword\n"
          ]
        }
      ],
      "source": [
        "#write a python program that checks if a given word is a python keyword.\n",
        "import keyword\n",
        "\n",
        "check_for_word =\"for\"\n",
        "\n",
        "if check_for_word in keyword.kwlist:\n",
        "    print(check_for_word, \"is a python keyword\")\n",
        "else:\n",
        "  print(check_for_word, \"is not a python keyword\")\n"
      ]
    },
    {
      "cell_type": "code",
      "execution_count": null,
      "metadata": {
        "colab": {
          "base_uri": "https://localhost:8080/"
        },
        "id": "Oq424xD718gn",
        "outputId": "6b446adc-2cb8-4fad-8210-a4296114c296"
      },
      "outputs": [
        {
          "name": "stdout",
          "output_type": "stream",
          "text": [
            "list [1, 2.4, 6.7, True, 'Test']\n",
            "tuple (3, 5, False, 'assignments')\n"
          ]
        }
      ],
      "source": [
        "#create a list anad tuple in python , and demonstrate how attempting to change an element works differently for each.\n",
        "lst = [1,2.4,\"pwskills\", True , \"Test\"]\n",
        "tuple1 = (3, 5, False, \"assignments\")\n",
        "lst[2]= 6.7\n",
        "print(\"list\",lst)\n",
        "# tuple1[1]= \"the\" #  tuple is immutable so change element is not supported.\n",
        "print(\"tuple\",tuple1)"
      ]
    },
    {
      "cell_type": "code",
      "source": [
        "# write a function to demostrate the behaviour of mutable and immutable arguments.\n",
        "lst = [1,2,3,\"amol\", \"abhi\", True]\n",
        "tuple1 = (1,2,3,\"bijay\",\"kl\",7)\n",
        "lst[2]= \"ram\" # list is mutable and it can be modified\n",
        "print(\"list\", lst)\n",
        "\n",
        "# tuple1[2]= \"rahul\" >> tuple is immutable so it can not be modified\n",
        "print(\"tuple\", tuple1)"
      ],
      "metadata": {
        "colab": {
          "base_uri": "https://localhost:8080/"
        },
        "id": "OTxlNlHSzXjc",
        "outputId": "51cd190c-08a0-4743-f7a9-31a2e1fac106"
      },
      "execution_count": null,
      "outputs": [
        {
          "output_type": "stream",
          "name": "stdout",
          "text": [
            "list [1, 2, 'ram', 'amol', 'abhi', True]\n",
            "tuple (1, 2, 3, 'bijay', 'kl', 7)\n"
          ]
        }
      ]
    },
    {
      "cell_type": "code",
      "execution_count": null,
      "metadata": {
        "colab": {
          "base_uri": "https://localhost:8080/"
        },
        "id": "6o9BEho1WMua",
        "outputId": "e8957525-862e-45eb-9bac-e3101a92437a"
      },
      "outputs": [
        {
          "name": "stdout",
          "output_type": "stream",
          "text": [
            "Enter the number 67\n",
            "Enter the number 54\n",
            "The addition of two input number is:  121\n"
          ]
        }
      ],
      "source": [
        "#write a program that performs basic  arithmatic operations on two user-input number.\n",
        "number1 = int(input(\"Enter the number \"))\n",
        "number2 = int(input(\"Enter the number \"))\n",
        "add = number1 + number2\n",
        "print(\"The addition of two input number is: \", add)"
      ]
    },
    {
      "cell_type": "code",
      "execution_count": null,
      "metadata": {
        "colab": {
          "base_uri": "https://localhost:8080/"
        },
        "id": "rmAJgnYpXj9t",
        "outputId": "d11b50f4-a4a4-4f47-8492-c22125584748"
      },
      "outputs": [
        {
          "name": "stdout",
          "output_type": "stream",
          "text": [
            "The output is  {False}\n",
            " The output is  {True}\n",
            "The given value is False\n"
          ]
        }
      ],
      "source": [
        "#write a program to demonstrate the use of logical operator.\n",
        "a = 10\n",
        "b =  7\n",
        "# using & operator\n",
        "print( \"The output is \",{a >= b and a<=b})\n",
        "# using | operator\n",
        "print(\" The output is \", {a>=b or a<=b})\n",
        "#using not opertor\n",
        "print(\"The given value is\",not{a==10})"
      ]
    },
    {
      "cell_type": "code",
      "execution_count": null,
      "metadata": {
        "colab": {
          "base_uri": "https://localhost:8080/"
        },
        "id": "ETDWL2zIacj5",
        "outputId": "f628f386-b945-4d15-9b36-02d427dd4071"
      },
      "outputs": [
        {
          "output_type": "stream",
          "name": "stdout",
          "text": [
            "Enter the value 54\n",
            "The integer value is 54\n",
            "The float value is 54.0\n",
            "The boolean value is True\n"
          ]
        }
      ],
      "source": [
        "#write a program to convert user input from string to integer, float and boolen types\n",
        "user_input = input(\"Enter the value \")\n",
        "integer_value = int(user_input)\n",
        "print(\"The integer value is\",integer_value)\n",
        "float_value = float(user_input)\n",
        "print(\"The float value is\",float_value)\n",
        "boolean_value = bool(user_input)\n",
        "print(\"The boolean value is\", boolean_value)"
      ]
    },
    {
      "cell_type": "code",
      "source": [
        "#write a program to demonstrate type casting with list elements.\n",
        "list1 = [\"1\", \"2\" ,\"3\", \"9\", \"7\", True]\n",
        "print(list1)\n",
        "list_to_int = [int(i) for i in list1]\n",
        "print(list_to_int)\n"
      ],
      "metadata": {
        "colab": {
          "base_uri": "https://localhost:8080/"
        },
        "id": "VyzLl9dfos9l",
        "outputId": "cdf4f06a-0f4f-4b23-89c6-6c0525786e23"
      },
      "execution_count": null,
      "outputs": [
        {
          "output_type": "stream",
          "name": "stdout",
          "text": [
            "['1', '2', '3', '9', '7', True]\n",
            "[1, 2, 3, 9, 7, 1]\n"
          ]
        }
      ]
    },
    {
      "cell_type": "code",
      "source": [
        "#wrtie a program that checks if a number is positive , negative , or zero\n",
        "number = int(input(\"Enter the number \"))\n",
        "if number > 0:\n",
        "  print(\"The number is positive\", number)\n",
        "elif number < 0:\n",
        "    print(\"The number is a negative\", number)\n",
        "else:\n",
        "    print(\"The number is zero\", number)"
      ],
      "metadata": {
        "colab": {
          "base_uri": "https://localhost:8080/"
        },
        "id": "JTORTkOxrSU5",
        "outputId": "20c487da-73e9-49d2-f4d9-f70a8b1b94b7"
      },
      "execution_count": null,
      "outputs": [
        {
          "output_type": "stream",
          "name": "stdout",
          "text": [
            "Enter the number -90\n",
            "The number is a negative -90\n"
          ]
        }
      ]
    },
    {
      "cell_type": "code",
      "source": [
        "#write a for loop to print number from 1 to  10 .\n",
        "num = [1,2,3,4,5,6,7,8,9,10]\n",
        "for i in num:\n",
        "  print(i)\n",
        "\n",
        "print()\n",
        "\n",
        "# using range function\n",
        "for i in range(1,11,1):\n",
        "  print(i)"
      ],
      "metadata": {
        "colab": {
          "base_uri": "https://localhost:8080/"
        },
        "id": "-2zsklKDs2X-",
        "outputId": "442ad85b-90a6-4d69-9c5a-bb3aec0d3fe0"
      },
      "execution_count": null,
      "outputs": [
        {
          "output_type": "stream",
          "name": "stdout",
          "text": [
            "1\n",
            "2\n",
            "3\n",
            "4\n",
            "5\n",
            "6\n",
            "7\n",
            "8\n",
            "9\n",
            "10\n",
            "\n",
            "1\n",
            "2\n",
            "3\n",
            "4\n",
            "5\n",
            "6\n",
            "7\n",
            "8\n",
            "9\n",
            "10\n"
          ]
        }
      ]
    },
    {
      "cell_type": "code",
      "source": [
        "#write a python program to find the sum of all even numbers between 1 and 50.\n",
        "total_sum = 0\n",
        "for num in range(1, 51):\n",
        "  if num % 2 == 0:\n",
        "    total_sum += num\n",
        "print(\"The sum of all even numbers between 1 and 50 is:\", total_sum)"
      ],
      "metadata": {
        "colab": {
          "base_uri": "https://localhost:8080/"
        },
        "id": "38Y4oeuStvGr",
        "outputId": "563e24de-583c-4292-93ff-2b4569402b1e"
      },
      "execution_count": null,
      "outputs": [
        {
          "output_type": "stream",
          "name": "stdout",
          "text": [
            "The sum of all even numbers between 1 and 50 is: 650\n"
          ]
        }
      ]
    },
    {
      "cell_type": "code",
      "source": [
        "#write a program to revese a string using a while loop .\n",
        "input_string = (\"hello, world\")\n",
        "while input_string [::-1] == True:\n",
        "  print(\"The revesed string is: \",str1)"
      ],
      "metadata": {
        "id": "5hvz51XTvRp0"
      },
      "execution_count": null,
      "outputs": []
    },
    {
      "cell_type": "code",
      "source": [
        "number = int(input(\"Enter the number \"))\n",
        "factorial = 1\n",
        "number1 = number\n",
        "while number >= 1:\n",
        "    factorial *= number\n",
        "    number -= 1\n",
        "print(f\"The factorial of {number1} is {factorial}\")"
      ],
      "metadata": {
        "colab": {
          "base_uri": "https://localhost:8080/"
        },
        "id": "B9lNs6hjaGs_",
        "outputId": "914f8944-64df-41aa-e65e-bdf82a58aae1"
      },
      "execution_count": null,
      "outputs": [
        {
          "output_type": "stream",
          "name": "stdout",
          "text": [
            "Enter the number 5\n",
            "The factorial of 5 is 120\n"
          ]
        }
      ]
    }
  ],
  "metadata": {
    "colab": {
      "provenance": [],
      "authorship_tag": "ABX9TyOv4ybqD+7YlxFeIwA+0QuT",
      "include_colab_link": true
    },
    "kernelspec": {
      "display_name": "Python 3",
      "name": "python3"
    },
    "language_info": {
      "name": "python"
    }
  },
  "nbformat": 4,
  "nbformat_minor": 0
}