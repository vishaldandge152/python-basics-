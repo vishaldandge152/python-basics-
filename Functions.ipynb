{
  "nbformat": 4,
  "nbformat_minor": 0,
  "metadata": {
    "colab": {
      "provenance": [],
      "authorship_tag": "ABX9TyNNVLCGnF4mliMfo92AF7c4",
      "include_colab_link": true
    },
    "kernelspec": {
      "name": "python3",
      "display_name": "Python 3"
    },
    "language_info": {
      "name": "python"
    }
  },
  "cells": [
    {
      "cell_type": "markdown",
      "metadata": {
        "id": "view-in-github",
        "colab_type": "text"
      },
      "source": [
        "<a href=\"https://colab.research.google.com/github/vishaldandge152/python-basics-/blob/main/Functions.ipynb\" target=\"_parent\"><img src=\"https://colab.research.google.com/assets/colab-badge.svg\" alt=\"Open In Colab\"/></a>"
      ]
    },
    {
      "cell_type": "markdown",
      "source": [
        " 1. What is the difference between a function and a method in Python?\n",
        "   - The key difference between a function and a method in Python is how they are called:\n",
        "\n",
        "  Function: A function is a standalone block of code that can be called independently.\n",
        "  Method: A method is a function that is associated with an object (an instance of a class) and is called on that object. It has implicit access to the data within the object."
      ],
      "metadata": {
        "id": "duna4o15H_AI"
      }
    },
    {
      "cell_type": "markdown",
      "source": [
        " 2. Explain the concept of function arguments and parameters in Python.\n",
        "   - In Python, both \"arguments\" and \"parameters\" relate to information passed to functions, but they refer to different things:\n",
        "\n",
        "  Parameters: These are the names listed in the function definition. They act as placeholders for the values that will be passed into the function when it is called.\n",
        "  \n",
        "  Arguments: These are the actual values that are passed to the function when it is called. The arguments correspond to the parameters defined in the function."
      ],
      "metadata": {
        "id": "Pq5ZjH3RH-6u"
      }
    },
    {
      "cell_type": "markdown",
      "source": [
        " 3. What are the different ways to define and call a function in Python?\n",
        "   -  Defining a Basic Function:\n",
        "You define a function using the `def` keyword, followed by the function name, parentheses `()`, and a colon `:`. The code block for the function is indented.\n",
        "# calling function:Calling a basic function\n",
        "greet()\n",
        "\n",
        "# Calling a function with a positional argument\n",
        "greet_person(\"Alice\")\n",
        "\n",
        "# Calling a function with a keyword argument\n",
        "greet_person(name=\"Bob\")\n",
        "\n",
        "# Calling a function with a default argument (using the default)\n",
        "greet_with_default()\n",
        "\n",
        "# Calling a function with a default argument (overriding the default)\n",
        "greet_with_default(\"Charlie\")\n",
        "\n",
        "# Calling a function with arbitrary positional arguments\n",
        "result = my_sum(1, 2, 3, 4)\n",
        "print(result)"
      ],
      "metadata": {
        "id": "5xSYulDxJZ4u"
      }
    },
    {
      "cell_type": "markdown",
      "source": [
        " 4. What is the purpose of the `return` statement in a Python function?\n",
        "   - Return statement is used to return the value after execution code."
      ],
      "metadata": {
        "id": "YIXUVm0KH-1J"
      }
    },
    {
      "cell_type": "markdown",
      "source": [
        " 5. What are iterators in Python and how do they differ from iterables?\n",
        "  - Iterable: An iterable is python object that return an iterator.\n",
        "  Iterator: An itterator is a python object that actually does the iteration over an iterable. we can get an itertaor from  an iterable using iter()"
      ],
      "metadata": {
        "id": "hLbDpkLLH-vi"
      }
    },
    {
      "cell_type": "markdown",
      "source": [
        " 6. Explain the concept of generators in Python and how they are defined.\n",
        "   - Generators are a special type of iterator in Python that are defined using functions and the yield keyword. Instead of using return to send a value back and terminate the function, yield pauses the function's execution and sends a value back to the caller"
      ],
      "metadata": {
        "id": "vy-jg3GjH-qe"
      }
    },
    {
      "cell_type": "markdown",
      "source": [
        " 7. What are the advantages of using generators over regular functions?\n",
        "    - Memoray efficiency , Lazy evalution , better perforamce for large data and infinite sequence."
      ],
      "metadata": {
        "id": "wwGSh524H-hc"
      }
    },
    {
      "cell_type": "markdown",
      "source": [
        " 8. What is a lambda function in Python and when is it typically used?\n",
        "    - Lambda function is a small anoymous function (a function witout a name). It is defined usinng  keyword lambda instead of def.\n",
        "    use case 1) when we need small function for a short period. 2)with in built functions like map,filter, reduce. 3)inline simple operations."
      ],
      "metadata": {
        "id": "tZsgZJ2NIAUU"
      }
    },
    {
      "cell_type": "markdown",
      "source": [
        "9. Explain the purpose and usage of the `map()` function in Python.\n",
        "   - The map () function is used to apply a function to every item in an iterable and return a new itertor with the results.\n",
        "   Usage - using a normal function , using a lambda function , with multiple iterables."
      ],
      "metadata": {
        "id": "vVE2f_L-IAIV"
      }
    },
    {
      "cell_type": "markdown",
      "source": [],
      "metadata": {
        "id": "f9Dztqm_H-F0"
      }
    },
    {
      "cell_type": "markdown",
      "source": [
        " 10. What is the difference between `map()`, `reduce()`, and `filter()` functions in Python?\n",
        "    - map: Apply a function to every item of an iterable and return the results.\n",
        "    reduce: Apply a function cumulatively to the items of an iterables ,redcuingv it to a single function.\n",
        "    filter: Apply a function that returns true or false to each item and keep only item where fuction returns true."
      ],
      "metadata": {
        "id": "eIi06rppOsOm"
      }
    },
    {
      "cell_type": "markdown",
      "source": [],
      "metadata": {
        "id": "OdF_0M1oOsLL"
      }
    },
    {
      "cell_type": "code",
      "execution_count": null,
      "metadata": {
        "id": "oYsUI_i4HwIN"
      },
      "outputs": [],
      "source": [
        "11. Using pen & Paper write the internal mechanism for sum operation using  reduce function on this given list:[47,11,42,13].\n",
        "   - Mechanism for sum operation : 1. sum of first two numbers 47 and 11 > 58\n",
        "   2. sum of result(58) and 42 > 100\n",
        "   3. sum of result(100) and 13 > 113\n",
        "   so by using reduce function the output will be 11"
      ]
    },
    {
      "cell_type": "code",
      "source": [
        "# 1. Write a Python function that takes a list of numbers as input and returns the sum of all even numbers in the list.\n",
        "def sum_of_even_numbers(numbers_list):\n",
        "  even_sum = 0\n",
        "  for number in numbers_list:\n",
        "    if number % 2 == 0:\n",
        "      even_sum += number\n",
        "  return even_sum\n",
        "\n",
        "# Example usage\n",
        "my_list = [1, 2, 3, 4, 5, 6, 7, 8, 9, 10]\n",
        "result = sum_of_even_numbers(my_list)\n",
        "print(f\"The sum of even numbers in the list is: {result}\")"
      ],
      "metadata": {
        "colab": {
          "base_uri": "https://localhost:8080/"
        },
        "id": "psO3vK9XKH4m",
        "outputId": "7c84a18c-342d-4d50-8c6d-eb76d35652b9"
      },
      "execution_count": 19,
      "outputs": [
        {
          "output_type": "stream",
          "name": "stdout",
          "text": [
            "The sum of even numbers in the list is: 30\n"
          ]
        }
      ]
    },
    {
      "cell_type": "code",
      "source": [
        "# 2. Create a Python function that accepts a string and returns the reverse of that string.\n",
        "def reverse_string(input_string):\n",
        "  return input_string[::-1]\n",
        "\n",
        "# Example usage:\n",
        "my_string = \"Hello, World!\"\n",
        "reversed_str = reverse_string(my_string)\n",
        "print(f\"Original string: {my_string}\")\n",
        "print(f\"Reversed string: {reversed_str}\")"
      ],
      "metadata": {
        "colab": {
          "base_uri": "https://localhost:8080/"
        },
        "id": "kYwlV1SDKH0-",
        "outputId": "cd487ca2-680c-4a48-e11f-e62b14da00e0"
      },
      "execution_count": 21,
      "outputs": [
        {
          "output_type": "stream",
          "name": "stdout",
          "text": [
            "Original string: Hello, World!\n",
            "Reversed string: !dlroW ,olleH\n"
          ]
        }
      ]
    },
    {
      "cell_type": "code",
      "source": [
        "# 3. Implement a Python function that takes a list of integers and returns a new list containing the squares of each number.\n",
        "def square_numbers_in_list(numbers_list):\n",
        "  squared_list = []\n",
        "  for number in numbers_list:\n",
        "    squared_list.append(number ** 2)\n",
        "  return squared_list\n",
        "\n",
        "# Example usage:\n",
        "numbers_list = [1, 2, 3, 4, 5]\n",
        "squared_numbers = square_numbers_in_list(my_numbers)\n",
        "print(f\"Original list: {my_numbers}\")\n",
        "print(f\"Squared list: {squared_numbers}\")"
      ],
      "metadata": {
        "colab": {
          "base_uri": "https://localhost:8080/"
        },
        "id": "Db7rSYOeKHys",
        "outputId": "70ecc842-7bef-4f6c-d7d4-ae3f0d2cf208"
      },
      "execution_count": 33,
      "outputs": [
        {
          "output_type": "stream",
          "name": "stdout",
          "text": [
            "Original list: [1, 2, 3, 4, 5]\n",
            "Squared list: [1, 4, 9, 16, 25]\n"
          ]
        }
      ]
    },
    {
      "cell_type": "code",
      "source": [
        "#4. Write a Python function that checks if a given number is prime or not from 1 to 200.\n",
        "def is_prime(number):\n",
        "  if number <= 1:\n",
        "    return False  # Numbers less than or equal to 1 are not prime\n",
        "  for i in range(2, int(number**0.5) + 1):\n",
        "    if number % i == 0:\n",
        "      return False  # Found a divisor, so not prime\n",
        "  return True  # No divisors found, so prime\n",
        "\n",
        "# For example:\n",
        "print(is_prime(17))\n",
        "print(is_prime(10))"
      ],
      "metadata": {
        "colab": {
          "base_uri": "https://localhost:8080/"
        },
        "id": "SKZVDgEPKHwa",
        "outputId": "845518db-7a24-423c-c35f-af8b5e69bd25"
      },
      "execution_count": 31,
      "outputs": [
        {
          "output_type": "stream",
          "name": "stdout",
          "text": [
            "True\n",
            "False\n"
          ]
        }
      ]
    },
    {
      "cell_type": "code",
      "source": [
        "#5. Create an iterator class in Python that generates the Fibonacci sequence up to a specified number of terms.\n",
        "def fibonacci_generator(num_terms):\n",
        "  a, b = 0, 1\n",
        "  count = 0\n",
        "  while count < num_terms:\n",
        "    yield a\n",
        "    a, b = b, a + b\n",
        "    count += 1\n",
        "\n",
        "# Example usage:\n",
        "print(\"Fibonacci sequence up to 10 terms (using generator):\")\n",
        "for term in fibonacci_generator(6):\n",
        "  print(term)\n"
      ],
      "metadata": {
        "colab": {
          "base_uri": "https://localhost:8080/"
        },
        "id": "lIV88cnFO6HE",
        "outputId": "e64c3d78-483a-4b81-a760-95e984566e84"
      },
      "execution_count": 38,
      "outputs": [
        {
          "output_type": "stream",
          "name": "stdout",
          "text": [
            "Fibonacci sequence up to 10 terms (using generator):\n",
            "0\n",
            "1\n",
            "1\n",
            "2\n",
            "3\n",
            "5\n"
          ]
        }
      ]
    },
    {
      "cell_type": "code",
      "source": [
        "# 6. Write a generator function in Python that yields the powers of 2 up to a given exponent.\n",
        "def powers_of_two_generator(max_exponent):\n",
        "  for i in range(max_exponent + 1):\n",
        "    yield 2 ** i\n",
        "print(\"Powers of 2 up to exponent 5 (using generator):\")\n",
        "for power in powers_of_two_generator(5):\n",
        "  print(power)"
      ],
      "metadata": {
        "colab": {
          "base_uri": "https://localhost:8080/"
        },
        "id": "Jr3aTGV6O6Dv",
        "outputId": "94876d41-afaf-432e-b869-e825f4da5b7e"
      },
      "execution_count": 39,
      "outputs": [
        {
          "output_type": "stream",
          "name": "stdout",
          "text": [
            "Powers of 2 up to exponent 5 (using generator):\n",
            "1\n",
            "2\n",
            "4\n",
            "8\n",
            "16\n",
            "32\n"
          ]
        }
      ]
    },
    {
      "cell_type": "code",
      "source": [
        "# 7. Implement a generator function that reads a file line by line and yields each line as a string.\n",
        "\n",
        "def read_file_line_by_line(file_path):\n",
        "  with open(file_path, 'r') as file:\n",
        "    for line in file:\n",
        "      yield line.strip()  # Yield each line, removing leading/trailing whitespace\n",
        "with open(\"my_file.txt\", \"w\") as f:\n",
        "  f.write(\"This is the first line.\\n\")\n",
        "  f.write(\"This is the second line.\\n\")\n",
        "  f.write(\"And this is the third line.\")\n",
        "print(\"Reading file line by line (using generator):\")\n",
        "for line in read_file_line_by_line(\"my_file.txt\"):\n",
        "  print(line)"
      ],
      "metadata": {
        "colab": {
          "base_uri": "https://localhost:8080/"
        },
        "id": "_f8sexXBKHuK",
        "outputId": "9ea730ac-547f-40f3-e418-2b67adad0057"
      },
      "execution_count": 41,
      "outputs": [
        {
          "output_type": "stream",
          "name": "stdout",
          "text": [
            "Reading file line by line (using generator):\n",
            "This is the first line.\n",
            "This is the second line.\n",
            "And this is the third line.\n"
          ]
        }
      ]
    },
    {
      "cell_type": "code",
      "source": [
        "# 8. Use a lambda function in Python to sort a list of tuples based on the second element of each tuple.\n",
        "my_list_of_tuples = [(1, 'banana'), (3, 'apple'), (2, 'cherry')]\n",
        "\n",
        "# Sort the list using a lambda function that sorts by the second element (index 1)\n",
        "sorted_list = sorted(my_list_of_tuples, key=lambda item: item[1])\n",
        "\n",
        "# Print the sorted list\n",
        "print(\"Original list:\", my_list_of_tuples)\n",
        "print(\"Sorted list by second element:\", sorted_list)"
      ],
      "metadata": {
        "colab": {
          "base_uri": "https://localhost:8080/"
        },
        "id": "siMcCbfoKHpN",
        "outputId": "2014e1ed-4437-4a27-87f7-061a54bd186a"
      },
      "execution_count": 42,
      "outputs": [
        {
          "output_type": "stream",
          "name": "stdout",
          "text": [
            "Original list: [(1, 'banana'), (3, 'apple'), (2, 'cherry')]\n",
            "Sorted list by second element: [(3, 'apple'), (1, 'banana'), (2, 'cherry')]\n"
          ]
        }
      ]
    },
    {
      "cell_type": "code",
      "source": [
        "#9. Write a Python program that uses `map()` to convert a list of temperatures from Celsius to Fahrenheit.\n",
        "def celsius_to_fahrenheit(celsius):\n",
        "  return (celsius * 9/5) + 32\n",
        "celsius_temperatures = [0, 10, 20, 30, 40, 50]\n",
        "\n",
        "# Use map() to convert the list of Celsius temperatures to Fahrenheit\n",
        "fahrenheit_temperatures = list(map(celsius_to_fahrenheit, celsius_temperatures))\n",
        "\n",
        "# Print the results\n",
        "print(\"Celsius temperatures:\", celsius_temperatures)\n",
        "print(\"Fahrenheit temperatures:\", fahrenheit_temperatures)"
      ],
      "metadata": {
        "colab": {
          "base_uri": "https://localhost:8080/"
        },
        "id": "DEixclzCKHXI",
        "outputId": "a635fe7f-896e-41c3-d668-64914db710a7"
      },
      "execution_count": 43,
      "outputs": [
        {
          "output_type": "stream",
          "name": "stdout",
          "text": [
            "Celsius temperatures: [0, 10, 20, 30, 40, 50]\n",
            "Fahrenheit temperatures: [32.0, 50.0, 68.0, 86.0, 104.0, 122.0]\n"
          ]
        }
      ]
    },
    {
      "cell_type": "code",
      "source": [
        "#10. Create a Python program that uses `filter()` to remove all the vowels from a given string.\n",
        "def remove_vowels(input_string):\n",
        "  vowels = \"aeiouAEIOU\"\n",
        "  filtered_characters = filter(lambda char: char not in vowels, input_string)\n",
        "  # Join the filtered characters back into a string\n",
        "  return \"\".join(filtered_characters)\n",
        "\n",
        "# Example usage:\n",
        "my_string = \"Hello World\"\n",
        "string_without_vowels = remove_vowels(my_string)\n",
        "print(f\"Original string: {my_string}\")\n",
        "print(f\"String without vowels: {string_without_vowels}\")"
      ],
      "metadata": {
        "colab": {
          "base_uri": "https://localhost:8080/"
        },
        "id": "akYAMO8cU8KL",
        "outputId": "b89484e0-0182-436e-ce30-f234f7aad183"
      },
      "execution_count": 44,
      "outputs": [
        {
          "output_type": "stream",
          "name": "stdout",
          "text": [
            "Original string: Hello World\n",
            "String without vowels: Hll Wrld\n"
          ]
        }
      ]
    },
    {
      "cell_type": "code",
      "source": [
        "#11) Imagine an accounting routine used in a book shop. It works on a list with sublists, which look like this:\n",
        "#order number,  book title and author            , Quantity ,  price per item\n",
        "# 34587         Learning python, mark lutz            4           40.95\n",
        "# 98762         programminng python, mark lutz        5           56.80\n",
        "# 77226         head first python, paul barry         3           32.95\n",
        "# 88112         Einfuhrung inn python 3, brend kelin  3           24.99\n",
        "\n",
        "# Write a Python program, which returns a list with 2-tuples. Each tuple consists of the order number and the product of the price per item and the quantity. The product should be increased by 10,- € if the value of the order is smaller than 100,00 €\n",
        "#Write a Python program using lambda and map\n",
        "\n",
        "orders = [\n",
        "    [34587, 'Learning python, mark lutz', 4, 40.95],\n",
        "    [98762, 'Programminng python, mark lutz', 5, 56.80],\n",
        "    [77226, 'Head first python, paul barry', 3, 32.95],\n",
        "    [88112, 'Einfuhrung inn python 3, brend kelin', 3, 24.99]\n",
        "]\n",
        "\n",
        "# Use map with a lambda function to process each order\n",
        "processed_orders = list(map(lambda order: (order[0], order[2] * order[3] + (10 if order[2] * order[3] > 100 else 0)), orders))\n",
        "\n",
        "# Print the result\n",
        "print(processed_orders)"
      ],
      "metadata": {
        "colab": {
          "base_uri": "https://localhost:8080/"
        },
        "id": "N0nNYhiIU8C3",
        "outputId": "2258f9a1-f26a-4459-b579-244132bae8e1"
      },
      "execution_count": 45,
      "outputs": [
        {
          "output_type": "stream",
          "name": "stdout",
          "text": [
            "[(34587, 173.8), (98762, 294.0), (77226, 98.85000000000001), (88112, 74.97)]\n"
          ]
        }
      ]
    }
  ]
}