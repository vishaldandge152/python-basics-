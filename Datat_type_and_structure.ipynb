{
  "nbformat": 4,
  "nbformat_minor": 0,
  "metadata": {
    "colab": {
      "provenance": [],
      "authorship_tag": "ABX9TyOopo3INvccXhmU15AxWL9J",
      "include_colab_link": true
    },
    "kernelspec": {
      "name": "python3",
      "display_name": "Python 3"
    },
    "language_info": {
      "name": "python"
    }
  },
  "cells": [
    {
      "cell_type": "markdown",
      "metadata": {
        "id": "view-in-github",
        "colab_type": "text"
      },
      "source": [
        "<a href=\"https://colab.research.google.com/github/vishaldandge152/python-basics-/blob/main/Datat_type_and_structure.ipynb\" target=\"_parent\"><img src=\"https://colab.research.google.com/assets/colab-badge.svg\" alt=\"Open In Colab\"/></a>"
      ]
    },
    {
      "cell_type": "markdown",
      "source": [
        "1. What are data structures, and why are they important?\n",
        "  - Data structures are ways of organizing and storing data, so that it can be accessed and modified efficiently.\n",
        "  they are important because of there efficiency , reusabilty,and organisation."
      ],
      "metadata": {
        "id": "hsvsG_daB3b1"
      }
    },
    {
      "cell_type": "markdown",
      "source": [
        "2. Explain the difference between mutable and immutable data types with examples.\n",
        "    - mutable = mutable data types can be modified , changable. it includes list, set,dictionary.\n",
        "    - immutable = it can not be modified , not changable. it includes tuples, string."
      ],
      "metadata": {
        "id": "HOxt8L3rCpRb"
      }
    },
    {
      "cell_type": "markdown",
      "source": [
        "3. What are the main differences between lists and tuples in Python?\n",
        "   - list is mutable , which can be changed later on if needed.\n",
        "   but tuples are immutable , which cannot be changed."
      ],
      "metadata": {
        "id": "wI8Eik9dDV3c"
      }
    },
    {
      "cell_type": "markdown",
      "source": [
        "4. Describe how dictionaries store data.\n",
        "   - Dictionaries store data in the form of key-value pairs.\n",
        "   in which keys can be modified if needed."
      ],
      "metadata": {
        "id": "B1CYTYWuDuLT"
      }
    },
    {
      "cell_type": "markdown",
      "source": [
        "5. Why might you use a set instead of a list in Python?\n",
        "   - we may use set instead of list because set has only unique values and if we don't care about elements position because set is not in  ordered."
      ],
      "metadata": {
        "id": "7eGHJv72EHeh"
      }
    },
    {
      "cell_type": "markdown",
      "source": [
        "6. What is a string in Python, and how is it different from a list?\n",
        "    - string is a sequence of charatcers inside the '' or \"\" .\n",
        "  string is writen in () and list in [] , string is different than list because it's immutable , can store only charaters , list can store any data types."
      ],
      "metadata": {
        "id": "yKD4eQeqEZwZ"
      }
    },
    {
      "cell_type": "markdown",
      "source": [
        "7. How do tuples ensure data integrity in Python?\n",
        "   - Tuples ensure data integrity due to its immutability, once tuple is created its can not be modified and that makes tuples data integrity in python."
      ],
      "metadata": {
        "id": "t1p8hV4EF77p"
      }
    },
    {
      "cell_type": "markdown",
      "source": [
        "8. What is a hash table, and how does it relate to dictionaries in Python?\n",
        "   - Hash tables is a table which contains only immutable data types.\n",
        "   tuple is stable hash value.\n",
        "   - hash table is related to dictionaries because dictionaries only support hash values inside it.  "
      ],
      "metadata": {
        "id": "KB6gvkZ7GdlB"
      }
    },
    {
      "cell_type": "markdown",
      "source": [
        "9.  Can lists contain different data types in Python.\n",
        "    - Yes, list can contain any data type in python, lists are heterogenuis."
      ],
      "metadata": {
        "id": "BnLgOXohF8fR"
      }
    },
    {
      "cell_type": "markdown",
      "source": [
        "10.  Explain why strings are immutable in Python.\n",
        "     -  strings are immutable because once created , thier data is stored in memory in fixed way , so changing it is not possible."
      ],
      "metadata": {
        "id": "L6ZV9U_MF8_0"
      }
    },
    {
      "cell_type": "markdown",
      "source": [
        "11. What advantages do dictionaries offer over lists for certain tasks?\n",
        "    - Dictionaries offer key value pairs in it, which offers fast look up by using key, no indexing , only key values can be modified not keys."
      ],
      "metadata": {
        "id": "Q7kilesVF9a5"
      }
    },
    {
      "cell_type": "markdown",
      "source": [
        "12.  Describe a scenario where using a tuple would be preferable over a list.\n",
        "   - Tuple is preferable were we need to store permenent data that sholud not be changed , scenario such as employ_id, aadhar card number, student_id etc."
      ],
      "metadata": {
        "id": "VMMvqhPkBpFg"
      }
    },
    {
      "cell_type": "markdown",
      "source": [
        "13.  How do sets handle duplicate values in Python?\n",
        "      - set has only unique values , if any duplicate value is there in set then it will only consider that value once"
      ],
      "metadata": {
        "id": "3zjCqJSOBlOS"
      }
    },
    {
      "cell_type": "markdown",
      "source": [
        "14. How does the “in” keyword work differently for lists and dictionaries?\n",
        "  - in list it checks if the value is present in element.\n",
        "  and in dictionaries it checks if the value is a key in the dictionary."
      ],
      "metadata": {
        "id": "JJPAdFHUBlQY"
      }
    },
    {
      "cell_type": "markdown",
      "source": [
        "15. Can you modify the elements of a tuple? Explain why or why not?\n",
        "  - we can not modify the elemens ot tuple because tuple is immutable.\n",
        "  and changing it is not possible."
      ],
      "metadata": {
        "id": "DNhyr5eVBlSx"
      }
    },
    {
      "cell_type": "markdown",
      "source": [
        "16. What is a nested dictionary, and give an example of its use case?\n",
        "    - nested dictionary means dictionary inside dictionnary where values are themselves dictionary.\n",
        "   d={\"student\"{\"name\": \"abhi\", \"roll no\":\"01\"}}"
      ],
      "metadata": {
        "id": "W4Xt2GhdBlVK"
      }
    },
    {
      "cell_type": "markdown",
      "source": [
        "17.  Describe the time complexity of accessing elements in a dictionary.\n",
        "   - acessing elements in dictionary is o(1) know as on average and o(n) know as worst case due to its hash table implementation."
      ],
      "metadata": {
        "id": "9atLVpKLBlXb"
      }
    },
    {
      "cell_type": "markdown",
      "source": [
        "18.  In what situations are lists preferred over dictionaries.\n",
        "      -  when we are not writing any senstive information , in which we have to make changes when ever required , and also when want elements in ordered and want to acces using index, then list is preffered over dictionary."
      ],
      "metadata": {
        "id": "J2q0ICoPBlaK"
      }
    },
    {
      "cell_type": "markdown",
      "source": [
        "19.  Why are dictionaries considered unordered, and how does that affect data retrieval.\n",
        "      - dictionary are consider unorder because it has key value pairs, which are not in order.\n",
        "      because of that acessing any value from that data gets complex."
      ],
      "metadata": {
        "id": "7qqCL8FlBlcd"
      }
    },
    {
      "cell_type": "markdown",
      "source": [
        "20. Explain the difference between a list and a dictionary in terms of data retrieval.\n",
        "   - in list data retrival is done by indexing/position.\n",
        "   in dictionary data retrival is done by key."
      ],
      "metadata": {
        "id": "W0e7OxuhBle9"
      }
    },
    {
      "cell_type": "markdown",
      "source": [
        "practical questions\n"
      ],
      "metadata": {
        "id": "g2WqmynTeHK6"
      }
    },
    {
      "cell_type": "code",
      "source": [
        "#Write a code to create a string with your name and print it.\n",
        "name=\"Vishal\"\n",
        "print(name)"
      ],
      "metadata": {
        "colab": {
          "base_uri": "https://localhost:8080/"
        },
        "id": "NmtcnQGmdL10",
        "outputId": "a4ee3008-c07a-4503-ceeb-4d4fa867dd98"
      },
      "execution_count": null,
      "outputs": [
        {
          "output_type": "stream",
          "name": "stdout",
          "text": [
            "Vishal\n"
          ]
        }
      ]
    },
    {
      "cell_type": "code",
      "source": [
        "#Write a code to find the length of the string \"Hello World\".\n",
        "string=\"Hello World\"\n",
        "print(len(string))"
      ],
      "metadata": {
        "colab": {
          "base_uri": "https://localhost:8080/"
        },
        "id": "3WmpWEsQdLin",
        "outputId": "61b3acf4-3f38-4509-df1a-96b3b694440f"
      },
      "execution_count": null,
      "outputs": [
        {
          "output_type": "stream",
          "name": "stdout",
          "text": [
            "11\n"
          ]
        }
      ]
    },
    {
      "cell_type": "code",
      "source": [
        "# Write a code to slice the first 3 characters from the string \"Python Programming\".\n",
        "string = \"python programming\"\n",
        "print(string[0:3])"
      ],
      "metadata": {
        "colab": {
          "base_uri": "https://localhost:8080/"
        },
        "id": "gzzc3OGBetHr",
        "outputId": "991c8e94-7864-46ba-a1e6-9c7e16a2fdc8"
      },
      "execution_count": null,
      "outputs": [
        {
          "output_type": "stream",
          "name": "stdout",
          "text": [
            "pyt\n"
          ]
        }
      ]
    },
    {
      "cell_type": "code",
      "source": [
        "# Write a code to convert the string \"hello\" to uppercase.\n",
        "string = \"hello\"\n",
        "string.upper()"
      ],
      "metadata": {
        "colab": {
          "base_uri": "https://localhost:8080/",
          "height": 35
        },
        "id": "pcCbroQCetEJ",
        "outputId": "8be45053-dd73-47b5-ce24-e3a213b3f8bf"
      },
      "execution_count": null,
      "outputs": [
        {
          "output_type": "execute_result",
          "data": {
            "text/plain": [
              "'HELLO'"
            ],
            "application/vnd.google.colaboratory.intrinsic+json": {
              "type": "string"
            }
          },
          "metadata": {},
          "execution_count": 7
        }
      ]
    },
    {
      "cell_type": "code",
      "source": [
        "#Write a code to replace the word \"apple\" with \"orange\" in the string \"I like apple.\n",
        "string = \"I like apple\"\n",
        "string.replace(\"apple\",\"orange\")"
      ],
      "metadata": {
        "colab": {
          "base_uri": "https://localhost:8080/",
          "height": 35
        },
        "id": "U7FXzw5xetBr",
        "outputId": "8aac8a32-f749-42f0-e89d-6f07d1ac82a4"
      },
      "execution_count": null,
      "outputs": [
        {
          "output_type": "execute_result",
          "data": {
            "text/plain": [
              "'I like orange'"
            ],
            "application/vnd.google.colaboratory.intrinsic+json": {
              "type": "string"
            }
          },
          "metadata": {},
          "execution_count": 10
        }
      ]
    },
    {
      "cell_type": "code",
      "source": [
        "# Write a code to create a list with numbers 1 to 5 and print it.\n",
        "list1 = [1,2,3,4,5]\n",
        "print(list1)"
      ],
      "metadata": {
        "colab": {
          "base_uri": "https://localhost:8080/"
        },
        "id": "10i-lVVIes_s",
        "outputId": "e93e9341-2d24-41e4-daf2-2ecbe11828ad"
      },
      "execution_count": null,
      "outputs": [
        {
          "output_type": "stream",
          "name": "stdout",
          "text": [
            "[1, 2, 3, 4, 5]\n"
          ]
        }
      ]
    },
    {
      "cell_type": "code",
      "source": [
        "# Write a code to append the number 10 to the list [1, 2, 3, 4]\n",
        "list2 = [1,2,3,4]\n",
        "list2.append(10)\n",
        "print(list2)"
      ],
      "metadata": {
        "colab": {
          "base_uri": "https://localhost:8080/"
        },
        "id": "_rExJsQAes9L",
        "outputId": "a438995f-b91e-4216-ee07-77defac142ed"
      },
      "execution_count": null,
      "outputs": [
        {
          "output_type": "stream",
          "name": "stdout",
          "text": [
            "[1, 2, 3, 4, 10]\n"
          ]
        }
      ]
    },
    {
      "cell_type": "code",
      "source": [
        "#Write a code to remove the number 3 from the list [1, 2, 3, 4, 5]\n",
        "list3 = [1,2,3,4,5]\n",
        "list3.remove(3)\n",
        "print(list3)"
      ],
      "metadata": {
        "colab": {
          "base_uri": "https://localhost:8080/"
        },
        "id": "DvK84_faes3e",
        "outputId": "258e66b0-8dc7-4f49-df5f-fe093bc8bab3"
      },
      "execution_count": null,
      "outputs": [
        {
          "output_type": "stream",
          "name": "stdout",
          "text": [
            "[1, 2, 4, 5]\n"
          ]
        }
      ]
    },
    {
      "cell_type": "code",
      "source": [
        "# Write a code to access the second element in the list ['a', 'b', 'c', 'd']\n",
        "list4 = [\"a\",\"b\",\"C\",\"D\"]\n",
        "list4[1]"
      ],
      "metadata": {
        "colab": {
          "base_uri": "https://localhost:8080/",
          "height": 35
        },
        "id": "4VBGFyyTesuP",
        "outputId": "5eedc6ca-1809-4c22-fefb-bc7d5f639859"
      },
      "execution_count": null,
      "outputs": [
        {
          "output_type": "execute_result",
          "data": {
            "text/plain": [
              "'b'"
            ],
            "application/vnd.google.colaboratory.intrinsic+json": {
              "type": "string"
            }
          },
          "metadata": {},
          "execution_count": 16
        }
      ]
    },
    {
      "cell_type": "code",
      "source": [
        "# write a code to reverse a list [10,20,30,40,50]\n",
        "list1 = [10,20,30,40,50]\n",
        "list1[::-1]"
      ],
      "metadata": {
        "colab": {
          "base_uri": "https://localhost:8080/"
        },
        "id": "yZaDgvhlesqw",
        "outputId": "da012154-e11b-4329-d96d-b10687036220"
      },
      "execution_count": null,
      "outputs": [
        {
          "output_type": "execute_result",
          "data": {
            "text/plain": [
              "[50, 40, 30, 20, 10]"
            ]
          },
          "metadata": {},
          "execution_count": 17
        }
      ]
    },
    {
      "cell_type": "code",
      "source": [
        "# Write a code to create a tuple with the elements 100, 200, 300 and print it.\n",
        "tuple1 = (100,200,300)\n",
        "print(tuple1)"
      ],
      "metadata": {
        "colab": {
          "base_uri": "https://localhost:8080/"
        },
        "id": "eKrLxuLmesoe",
        "outputId": "a647e395-7630-4fd9-f7e9-f214d3124900"
      },
      "execution_count": null,
      "outputs": [
        {
          "output_type": "stream",
          "name": "stdout",
          "text": [
            "(100, 200, 300)\n"
          ]
        }
      ]
    },
    {
      "cell_type": "code",
      "source": [
        "#Write a code to access the second-to-last element of the tuple ('red', 'green', 'blue', 'yellow').\n",
        "tple = ('red','green','blue','yellow')\n",
        "tple[1:]"
      ],
      "metadata": {
        "colab": {
          "base_uri": "https://localhost:8080/"
        },
        "id": "vyjKLIr2esmL",
        "outputId": "3568cab1-fa28-49fb-e859-20f6e674dd76"
      },
      "execution_count": null,
      "outputs": [
        {
          "output_type": "execute_result",
          "data": {
            "text/plain": [
              "('green', 'blue', 'yellow')"
            ]
          },
          "metadata": {},
          "execution_count": 19
        }
      ]
    },
    {
      "cell_type": "code",
      "source": [
        "# Write a code to find the minimum number in the tuple (10, 20, 5, 15).\n",
        "tupl2 =(10,20,5,15)\n",
        "min(tupl2)"
      ],
      "metadata": {
        "colab": {
          "base_uri": "https://localhost:8080/"
        },
        "id": "-H1Qjgn2esj5",
        "outputId": "5921afb8-63fb-4f03-b780-6b9f11c278fa"
      },
      "execution_count": null,
      "outputs": [
        {
          "output_type": "execute_result",
          "data": {
            "text/plain": [
              "5"
            ]
          },
          "metadata": {},
          "execution_count": 20
        }
      ]
    },
    {
      "cell_type": "code",
      "source": [
        "#  Write a code to find the index of the element \"cat\" in the tuple ('dog', 'cat', 'rabbit').\n",
        "tuple3 = ('dog','cat','rabbit')\n",
        "tuple3.index('cat')"
      ],
      "metadata": {
        "colab": {
          "base_uri": "https://localhost:8080/"
        },
        "id": "iZIJnelVeshg",
        "outputId": "3f527b79-2fbb-4def-c0ce-eaa64f6d6143"
      },
      "execution_count": null,
      "outputs": [
        {
          "output_type": "execute_result",
          "data": {
            "text/plain": [
              "1"
            ]
          },
          "metadata": {},
          "execution_count": 21
        }
      ]
    },
    {
      "cell_type": "code",
      "source": [
        "# Write a code to create a tuple containing three different fruits and check if \"kiwi\" is in it.\n",
        "tuple4 = ('apple','mango','kiwi')\n",
        "('kiwi') in tuple4"
      ],
      "metadata": {
        "colab": {
          "base_uri": "https://localhost:8080/"
        },
        "id": "Gz5Pn52mese6",
        "outputId": "47a660d4-d0f0-4013-fcf0-1eb9004d58f4"
      },
      "execution_count": null,
      "outputs": [
        {
          "output_type": "execute_result",
          "data": {
            "text/plain": [
              "True"
            ]
          },
          "metadata": {},
          "execution_count": 22
        }
      ]
    },
    {
      "cell_type": "code",
      "source": [
        "# Write a code to create a set with the elements 'a', 'b', 'c' and print it.\n",
        "s = {'a','b','c'}\n",
        "print(s)"
      ],
      "metadata": {
        "colab": {
          "base_uri": "https://localhost:8080/"
        },
        "id": "ADpjeDvmescY",
        "outputId": "a9401ebe-a7f3-42e0-df94-dcc7ee965b05"
      },
      "execution_count": null,
      "outputs": [
        {
          "output_type": "stream",
          "name": "stdout",
          "text": [
            "{'c', 'b', 'a'}\n"
          ]
        }
      ]
    },
    {
      "cell_type": "code",
      "source": [
        "# Write a code to clear all elements from the set {1, 2, 3, 4, 5}.\n",
        "s = {1,2,3,4,5}\n",
        "s.clear()\n",
        "print(s)"
      ],
      "metadata": {
        "colab": {
          "base_uri": "https://localhost:8080/"
        },
        "id": "twHSJRFNmxMm",
        "outputId": "c2ba9c1d-41c0-4693-ed67-ce8da58e50be"
      },
      "execution_count": null,
      "outputs": [
        {
          "output_type": "stream",
          "name": "stdout",
          "text": [
            "set()\n"
          ]
        }
      ]
    },
    {
      "cell_type": "code",
      "source": [
        "# Write a code to remove the element 4 from the set {1, 2, 3, 4}.\n",
        "s1 = {1,2,3,4}\n",
        "s1.remove(4)\n",
        "print(s1)"
      ],
      "metadata": {
        "colab": {
          "base_uri": "https://localhost:8080/"
        },
        "id": "0m4RN6LXmxGl",
        "outputId": "001e762c-cdfd-440d-de6b-8abcca382737"
      },
      "execution_count": null,
      "outputs": [
        {
          "output_type": "stream",
          "name": "stdout",
          "text": [
            "{1, 2, 3}\n"
          ]
        }
      ]
    },
    {
      "cell_type": "code",
      "source": [
        "# Write a code to find the union of two sets {1, 2, 3} and {3, 4, 5}.\n",
        "s1 = {1,2,3}\n",
        "s2 = {3,4,5}\n",
        "s1 | s2"
      ],
      "metadata": {
        "colab": {
          "base_uri": "https://localhost:8080/"
        },
        "id": "6njkQlCPmxDH",
        "outputId": "6a97050f-18d3-4486-b552-1034ea0534d0"
      },
      "execution_count": null,
      "outputs": [
        {
          "output_type": "execute_result",
          "data": {
            "text/plain": [
              "{1, 2, 3, 4, 5}"
            ]
          },
          "metadata": {},
          "execution_count": 32
        }
      ]
    },
    {
      "cell_type": "code",
      "source": [
        "# Write a code to find the intersection of two sets {1, 2, 3} and {2, 3, 4}.\n",
        "s1 = {1,2,3}\n",
        "s2 = {3,4,5}\n",
        "s1 & s2"
      ],
      "metadata": {
        "colab": {
          "base_uri": "https://localhost:8080/"
        },
        "id": "xODTPeMXmxAg",
        "outputId": "193aaea4-326f-41a5-a6ba-33ac6a5319fa"
      },
      "execution_count": null,
      "outputs": [
        {
          "output_type": "execute_result",
          "data": {
            "text/plain": [
              "{3}"
            ]
          },
          "metadata": {},
          "execution_count": 33
        }
      ]
    },
    {
      "cell_type": "code",
      "source": [
        "# Write a code to create a dictionary with the keys \"name\", \"age\", and \"city\", and print it.\n",
        "d = {\"name\":\"vishal\", \"age\":\"21\", \"city\":\"paithan\"}\n",
        "print(d)"
      ],
      "metadata": {
        "colab": {
          "base_uri": "https://localhost:8080/"
        },
        "id": "pTXas94qmw91",
        "outputId": "935d2da9-00b0-48ad-8913-38e3436b54bb"
      },
      "execution_count": null,
      "outputs": [
        {
          "output_type": "stream",
          "name": "stdout",
          "text": [
            "{'name': 'vishal', 'age': '21', 'city': 'paithan'}\n"
          ]
        }
      ]
    },
    {
      "cell_type": "code",
      "source": [
        "# Write a code to add a new key-value pair \"country\": \"USA\" to the dictionary {'name': 'John', 'age': 25}.\n",
        "d1 = {\"name\":\"john\", \"age\":\"25\"}\n",
        "d1[\"country\"]=\"USA\"\n",
        "print(d1)"
      ],
      "metadata": {
        "colab": {
          "base_uri": "https://localhost:8080/"
        },
        "id": "l-QsTLBRmw7W",
        "outputId": "beb8e592-3483-41b4-a811-e8fa2cefde08"
      },
      "execution_count": null,
      "outputs": [
        {
          "output_type": "stream",
          "name": "stdout",
          "text": [
            "{'name': 'john', 'age': '25', 'country': 'USA'}\n"
          ]
        }
      ]
    },
    {
      "cell_type": "code",
      "source": [
        "# Write a code to access the value associated with the key \"name\" in the dictionary {'name': 'Alice', 'age': 30}.\n",
        "d = {\"name\":\"Aalice\", \"age\":\"35\"}\n",
        "d[\"name\"]"
      ],
      "metadata": {
        "colab": {
          "base_uri": "https://localhost:8080/",
          "height": 35
        },
        "id": "PYF96jwkmw4Z",
        "outputId": "b3c834f9-b4df-4050-c515-906803075d21"
      },
      "execution_count": null,
      "outputs": [
        {
          "output_type": "execute_result",
          "data": {
            "text/plain": [
              "'Aalice'"
            ],
            "application/vnd.google.colaboratory.intrinsic+json": {
              "type": "string"
            }
          },
          "metadata": {},
          "execution_count": 46
        }
      ]
    },
    {
      "cell_type": "code",
      "source": [
        "# Write a code to remove the key \"age\" from the dictionary {'name': 'Bob', 'age': 22, 'city': 'New York'}.\n",
        "d = {'name': 'Bob', 'age': 22, 'city': 'New York'}\n",
        "del d['age']\n",
        "print(d)"
      ],
      "metadata": {
        "colab": {
          "base_uri": "https://localhost:8080/"
        },
        "id": "x64E8rxdmw09",
        "outputId": "fd4f1727-f4a2-4f81-e8a1-3c2bf9fb3f8e"
      },
      "execution_count": null,
      "outputs": [
        {
          "output_type": "stream",
          "name": "stdout",
          "text": [
            "{'name': 'Bob', 'city': 'New York'}\n"
          ]
        }
      ]
    },
    {
      "cell_type": "code",
      "source": [
        "# Write a code to check if the key \"city\" exists in the dictionary {'name': 'Alice', 'city': 'Paris'}.\n",
        "dic = {'name': 'Alice', 'city': 'Paris'}\n",
        "('city') in dic"
      ],
      "metadata": {
        "colab": {
          "base_uri": "https://localhost:8080/"
        },
        "id": "zp5mn3aAmwyH",
        "outputId": "7ac31146-6e09-4198-8a96-e5b1a07f4334"
      },
      "execution_count": null,
      "outputs": [
        {
          "output_type": "execute_result",
          "data": {
            "text/plain": [
              "True"
            ]
          },
          "metadata": {},
          "execution_count": 52
        }
      ]
    },
    {
      "cell_type": "code",
      "source": [
        "# Write a code to create a list, a tuple, and a dictionary, and print them all.\n",
        "\n",
        "# Create a list\n",
        "list2 = [1, 2, 3, 4, 5]\n",
        "print(\"List:\", list2)\n",
        "\n",
        "# Create a tuple\n",
        "tuple1 = (10, 20, 30, 40, 50)\n",
        "print(\"Tuple:\", tuple1)\n",
        "\n",
        "# Create a dictionary\n",
        "my_dict = {\"name\": \"John\", \"age\": 30, \"city\": \"New York\"}\n",
        "print(\"Dictionary:\", my_dict)"
      ],
      "metadata": {
        "colab": {
          "base_uri": "https://localhost:8080/"
        },
        "id": "CGhzaPLOmwvP",
        "outputId": "77c05357-dd0b-4626-b5e8-9024c6d8051e"
      },
      "execution_count": null,
      "outputs": [
        {
          "output_type": "stream",
          "name": "stdout",
          "text": [
            "List: [1, 2, 3, 4, 5]\n",
            "Tuple: (10, 20, 30, 40, 50)\n",
            "Dictionary: {'name': 'John', 'age': 30, 'city': 'New York'}\n"
          ]
        }
      ]
    },
    {
      "cell_type": "code",
      "source": [
        "# Write a code to create a list of 5 random numbers between 1 and 100, sort it in ascending order, and print the result (replace).\n",
        "import random\n",
        "my_list = [random.randint(1,100) for i in range(5)]\n",
        "my_list.sort()\n",
        "print(my_list)\n"
      ],
      "metadata": {
        "colab": {
          "base_uri": "https://localhost:8080/"
        },
        "id": "HLbVhDKGr7A6",
        "outputId": "9a7e32c8-de4a-4765-e5b4-48a186aff2f5"
      },
      "execution_count": null,
      "outputs": [
        {
          "output_type": "stream",
          "name": "stdout",
          "text": [
            "[8, 17, 39, 68, 98]\n"
          ]
        }
      ]
    },
    {
      "cell_type": "code",
      "source": [
        " # Write a code to create a list with strings and print the element at the third index.\n",
        " my_list = [\"apple\",\"kiwi\",\"banana\",\"mango\",\"oranges\",\"fdshfd\"]\n",
        " print(my_list[3])\n",
        "\n"
      ],
      "metadata": {
        "id": "Md_PGPQhuQxh",
        "colab": {
          "base_uri": "https://localhost:8080/"
        },
        "outputId": "a21f21f5-018b-4eec-c78c-f6c7e4c1b83f"
      },
      "execution_count": 1,
      "outputs": [
        {
          "output_type": "stream",
          "name": "stdout",
          "text": [
            "mango\n"
          ]
        }
      ]
    },
    {
      "cell_type": "code",
      "source": [
        "# Write a code to combine two dictionaries into one and print the result.\n",
        "d1 = {\"name\":\"vishal\",\"age\":\"21\",\"result\":\"pass\"}\n",
        "d2 = {\"name1\":\"Amol\",\"age1\":\"20\",\"result1\":\"pass\"}\n",
        "d1.update(d2)\n",
        "print(d1)"
      ],
      "metadata": {
        "colab": {
          "base_uri": "https://localhost:8080/"
        },
        "id": "GGZxu-3Ypql7",
        "outputId": "f0801ba4-c239-43ff-ad75-d8174643ccdf"
      },
      "execution_count": 9,
      "outputs": [
        {
          "output_type": "stream",
          "name": "stdout",
          "text": [
            "{'name': 'vishal', 'age': '21', 'result': 'pass', 'name1': 'Amol', 'age1': '20', 'result1': 'pass'}\n"
          ]
        }
      ]
    },
    {
      "cell_type": "code",
      "source": [
        "# Write a code to convert a list of strings into a set.\n",
        "my_list = [\"apple\",\"kiwi\",\"banana\",\"mango\",\"oranges\",\"fdshfd\"]\n",
        "my_set = set(my_list)\n",
        "print(my_set)"
      ],
      "metadata": {
        "colab": {
          "base_uri": "https://localhost:8080/"
        },
        "id": "HxVVmI3vsgw5",
        "outputId": "e0d820f7-0543-4fba-b796-2ae4eb3dc829"
      },
      "execution_count": 12,
      "outputs": [
        {
          "output_type": "stream",
          "name": "stdout",
          "text": [
            "{'banana', 'kiwi', 'oranges', 'fdshfd', 'mango', 'apple'}\n"
          ]
        }
      ]
    }
  ]
}